{
 "cells": [
  {
   "cell_type": "markdown",
   "metadata": {},
   "source": [
    "<div id=\"container_build\">\n",
    "<h2>3. Build and push the container</h2>\n",
    "</div>\n",
    " (. . .)"
   ]
  },
  {
   "cell_type": "markdown",
   "metadata": {},
   "source": [
    "[Go to ECR in the AWS console](https://console.aws.amazon.com/ecr/home?region=us-east-1) and check if our new repository called was created and the image was pushed to it.\n",
    "\n",
    "![ecr-repo](../media/ecr-repo.png)"
   ]
  },
  {
   "cell_type": "markdown",
   "metadata": {},
   "source": [
    "----\n",
    "**TODO Add local test**\n",
    "\n",
    "```\n",
    "SM_TRAINING_ENV={\"additional_framework_parameters\":{},\"channel_input_dirs\":{\"train\":\"/opt/ml/input/data/train\",\"validation\":\"/opt/ml/input/data/validation\"},\"current_host\":\"algo-1-5onks\",\"framework_module\":\"custom_lightgbm_framework.training:main\",\"hosts\":[\"algo-1-5onks\"],\"hyperparameters\":{},\"input_config_dir\":\"/opt/ml/input/config\",\"input_data_config\":{\"train\":{\"ContentType\":\"text/csv\",\"TrainingInputMode\":\"File\"},\"validation\":{\"ContentType\":\"text/csv\",\"TrainingInputMode\":\"File\"}},\"input_dir\":\"/opt/ml/input\",\"is_master\":true,\"job_name\":\"sagemaker-custom-2020-08-02-03-57-03-742\",\"log_level\":20,\"master_hostname\":\"algo-1-5onks\",\"model_dir\":\"/opt/ml/model\",\"module_dir\":\"s3://sagemaker-us-east-1-725879053979/sagemaker-custom/code/sourcedir.tar.gz\",\"module_name\":\"train\",\"network_interface_name\":\"eth0\",\"num_cpus\":4,\"num_gpus\":0,\"output_data_dir\":\"/opt/ml/output/data\",\"output_dir\":\"/opt/ml/output\",\"output_intermediate_dir\":\"/opt/ml/output/intermediate\",\"resource_config\":{\"current_host\":\"algo-1-5onks\",\"hosts\":[\"algo-1-5onks\"]},\"user_entry_point\":\"train.py\"}\n",
    "```\n",
    "\n",
    "Look:\n",
    "\n",
    "https://github.com/aws/sagemaker-training-toolkit/blob/74722fab9c9a9138b350df2cf54a204e2ad790c4/src/sagemaker_training/environment.py#L311\n",
    "\n",
    "```\n",
    "!sudo rm -rf train_tests && mkdir -p train_tests\n",
    "with open(\"train_tests/vars.env\", \"w\") as f:\n",
    "    f.write(\"AWS_ACCOUNT_ID=%s\\n\" % account_id)\n",
    "    f.write(\"IMAGE_TAG=%s\\n\" % image_tag)\n",
    "    f.write(\"AWS_DEFAULT_REGION=%s\\n\" % region)\n",
    "    \n",
    "    (...)\n",
    "    \n",
    "    f.close()\n",
    "\n",
    "!cat tests/vars.env\n",
    "\n",
    "```\n",
    "\n",
    "Pass env vars to docker:\n",
    "\n",
    "https://docs.docker.com/engine/reference/commandline/run/#set-environment-variables--e---env---env-file\n",
    "\n",
    "!docker run --env-file vars.env \\<IMG> train\n",
    "\n",
    "!docker run --env-file vars.env sagemaker-training-containers/framework-container:latest train "
   ]
  },
  {
   "cell_type": "markdown",
   "metadata": {},
   "source": [
    "<div id=\"testing\">\n",
    "<h2>4. Training with Amazon SageMaker</h2>\n",
    "</div>\n",
    "\n",
    "(. . .)"
   ]
  },
  {
   "cell_type": "markdown",
   "metadata": {},
   "source": [
    "**TODO trigger Docker image build in CodePipeline**\n",
    "\n",
    "Use CodeBuild local"
   ]
  }
 ],
 "metadata": {
  "kernelspec": {
   "display_name": "Python 3",
   "language": "python",
   "name": "python3"
  },
  "language_info": {
   "codemirror_mode": {
    "name": "ipython",
    "version": 3
   },
   "file_extension": ".py",
   "mimetype": "text/x-python",
   "name": "python",
   "nbconvert_exporter": "python",
   "pygments_lexer": "ipython3",
   "version": "3.7.3"
  }
 },
 "nbformat": 4,
 "nbformat_minor": 4
}
